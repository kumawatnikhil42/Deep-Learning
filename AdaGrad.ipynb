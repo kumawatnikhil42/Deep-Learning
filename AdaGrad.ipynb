{
 "cells": [
  {
   "cell_type": "code",
   "execution_count": 1,
   "id": "5c7f5f88",
   "metadata": {},
   "outputs": [],
   "source": [
    "import pandas as pd\n",
    "import numpy as np"
   ]
  },
  {
   "cell_type": "code",
   "execution_count": 2,
   "id": "1719cdb8",
   "metadata": {},
   "outputs": [],
   "source": [
    "data = pd.read_csv(\"C:\\\\Users\\\\user\\\\Datasets\\\\Churn_Modelling.csv\")"
   ]
  },
  {
   "cell_type": "code",
   "execution_count": 3,
   "id": "eaeac78f",
   "metadata": {},
   "outputs": [
    {
     "name": "stdout",
     "output_type": "stream",
     "text": [
      "WARNING:tensorflow:From C:\\Users\\user\\AppData\\Roaming\\Python\\Python311\\site-packages\\keras\\src\\losses.py:2976: The name tf.losses.sparse_softmax_cross_entropy is deprecated. Please use tf.compat.v1.losses.sparse_softmax_cross_entropy instead.\n",
      "\n"
     ]
    }
   ],
   "source": [
    "import tensorflow as tf"
   ]
  },
  {
   "cell_type": "code",
   "execution_count": 4,
   "id": "00d01342",
   "metadata": {},
   "outputs": [],
   "source": [
    "from sklearn.model_selection import train_test_split\n",
    "from sklearn.preprocessing import LabelEncoder,StandardScaler"
   ]
  },
  {
   "cell_type": "code",
   "execution_count": 5,
   "id": "85259187",
   "metadata": {},
   "outputs": [],
   "source": [
    "#Preprocess the dataset\n",
    "X=data.drop(columns=['Exited'],axis=1)\n",
    "y=data['Exited']"
   ]
  },
  {
   "cell_type": "code",
   "execution_count": 6,
   "id": "30664772",
   "metadata": {},
   "outputs": [],
   "source": [
    "#Encode Categorical features\n",
    "le=LabelEncoder()\n",
    "X['Surname']=le.fit_transform(X['Surname'])\n",
    "X['Gender']=le.fit_transform(X['Gender'])\n",
    "X['Geography']=le.fit_transform(X['Geography'])"
   ]
  },
  {
   "cell_type": "code",
   "execution_count": 7,
   "id": "b86f14d1",
   "metadata": {},
   "outputs": [],
   "source": [
    "#Split the dataset into train and test sets\n",
    "X_train,X_test,y_train,y_test=train_test_split(X,y,test_size=0.2,random_state=42)"
   ]
  },
  {
   "cell_type": "code",
   "execution_count": 8,
   "id": "7be50272",
   "metadata": {},
   "outputs": [],
   "source": [
    "#Standardize the features\n",
    "scaler=StandardScaler()\n",
    "X_train=scaler.fit_transform(X_train)\n",
    "X_test=scaler.fit_transform(X_test)"
   ]
  },
  {
   "cell_type": "code",
   "execution_count": 9,
   "id": "5e200ab1",
   "metadata": {},
   "outputs": [
    {
     "name": "stdout",
     "output_type": "stream",
     "text": [
      "WARNING:tensorflow:From C:\\Users\\user\\AppData\\Roaming\\Python\\Python311\\site-packages\\keras\\src\\backend.py:873: The name tf.get_default_graph is deprecated. Please use tf.compat.v1.get_default_graph instead.\n",
      "\n"
     ]
    }
   ],
   "source": [
    "#Define the neural network architecture\n",
    "model=tf.keras.Sequential([\n",
    "    tf.keras.layers.Dense(64,activation='relu',input_dim=X_train.shape[1]),\n",
    "    tf.keras.layers.Dense(64,activation='relu'),\n",
    "    tf.keras.layers.Dense(1,activation='sigmoid')\n",
    "])"
   ]
  },
  {
   "cell_type": "code",
   "execution_count": 10,
   "id": "cd4bc410",
   "metadata": {},
   "outputs": [],
   "source": [
    "#Define the loss function and metrics\n",
    "loss_fn=tf.keras.losses.BinaryCrossentropy()\n",
    "metrics=['accuracy']"
   ]
  },
  {
   "cell_type": "code",
   "execution_count": 11,
   "id": "bacc7780",
   "metadata": {},
   "outputs": [],
   "source": [
    "#Define the optimizer with Adagrad\n",
    "learning_rate=0.01\n",
    "optimizer=tf.keras.optimizers.Adagrad(learning_rate==learning_rate)"
   ]
  },
  {
   "cell_type": "code",
   "execution_count": 12,
   "id": "ebac1d6b",
   "metadata": {},
   "outputs": [],
   "source": [
    "#Compile the model\n",
    "model.compile(optimizer=optimizer,loss=loss_fn,metrics=metrics)"
   ]
  },
  {
   "cell_type": "code",
   "execution_count": 13,
   "id": "a33e20d3",
   "metadata": {},
   "outputs": [
    {
     "name": "stdout",
     "output_type": "stream",
     "text": [
      "Epoch 1/10\n",
      "WARNING:tensorflow:From C:\\Users\\user\\AppData\\Roaming\\Python\\Python311\\site-packages\\keras\\src\\utils\\tf_utils.py:492: The name tf.ragged.RaggedTensorValue is deprecated. Please use tf.compat.v1.ragged.RaggedTensorValue instead.\n",
      "\n",
      "WARNING:tensorflow:From C:\\Users\\user\\AppData\\Roaming\\Python\\Python311\\site-packages\\keras\\src\\engine\\base_layer_utils.py:384: The name tf.executing_eagerly_outside_functions is deprecated. Please use tf.compat.v1.executing_eagerly_outside_functions instead.\n",
      "\n",
      "200/200 [==============================] - 2s 4ms/step - loss: 0.4399 - accuracy: 0.8131 - val_loss: 0.3745 - val_accuracy: 0.8450\n",
      "Epoch 2/10\n",
      "200/200 [==============================] - 1s 3ms/step - loss: 0.3948 - accuracy: 0.8431 - val_loss: 0.3734 - val_accuracy: 0.8456\n",
      "Epoch 3/10\n",
      "200/200 [==============================] - 1s 3ms/step - loss: 0.3753 - accuracy: 0.8498 - val_loss: 0.3716 - val_accuracy: 0.8456\n",
      "Epoch 4/10\n",
      "200/200 [==============================] - 1s 3ms/step - loss: 0.3631 - accuracy: 0.8531 - val_loss: 0.3673 - val_accuracy: 0.8450\n",
      "Epoch 5/10\n",
      "200/200 [==============================] - 1s 3ms/step - loss: 0.3612 - accuracy: 0.8536 - val_loss: 0.3707 - val_accuracy: 0.8419\n",
      "Epoch 6/10\n",
      "200/200 [==============================] - 1s 3ms/step - loss: 0.3489 - accuracy: 0.8567 - val_loss: 0.3640 - val_accuracy: 0.8494\n",
      "Epoch 7/10\n",
      "200/200 [==============================] - 1s 3ms/step - loss: 0.3475 - accuracy: 0.8605 - val_loss: 0.3655 - val_accuracy: 0.8462\n",
      "Epoch 8/10\n",
      "200/200 [==============================] - 1s 3ms/step - loss: 0.3418 - accuracy: 0.8608 - val_loss: 0.3639 - val_accuracy: 0.8494\n",
      "Epoch 9/10\n",
      "200/200 [==============================] - 1s 3ms/step - loss: 0.3402 - accuracy: 0.8600 - val_loss: 0.3679 - val_accuracy: 0.8475\n",
      "Epoch 10/10\n",
      "200/200 [==============================] - 1s 3ms/step - loss: 0.3349 - accuracy: 0.8637 - val_loss: 0.3638 - val_accuracy: 0.8450\n"
     ]
    },
    {
     "data": {
      "text/plain": [
       "<keras.src.callbacks.History at 0x225b8e66fd0>"
      ]
     },
     "execution_count": 13,
     "metadata": {},
     "output_type": "execute_result"
    }
   ],
   "source": [
    "#train the model\n",
    "epochs=10\n",
    "batch_size=32\n",
    "model.fit(X_train,y_train,batch_size=batch_size,epochs=epochs,validation_split=0.2)"
   ]
  },
  {
   "cell_type": "code",
   "execution_count": 14,
   "id": "bf8247a2",
   "metadata": {},
   "outputs": [
    {
     "name": "stdout",
     "output_type": "stream",
     "text": [
      "63/63 [==============================] - 0s 2ms/step - loss: 0.3617 - accuracy: 0.8615\n",
      "Test Loss 0.3616951107978821\n",
      "Test Accuracy 0.8615000247955322\n"
     ]
    }
   ],
   "source": [
    "#Evaluate the model\n",
    "test_loss,test_acc=model.evaluate(X_test,y_test)\n",
    "print(\"Test Loss\",test_loss)\n",
    "print(\"Test Accuracy\",test_acc)"
   ]
  },
  {
   "cell_type": "code",
   "execution_count": null,
   "id": "dca14d89",
   "metadata": {},
   "outputs": [],
   "source": []
  }
 ],
 "metadata": {
  "kernelspec": {
   "display_name": "Python 3 (ipykernel)",
   "language": "python",
   "name": "python3"
  },
  "language_info": {
   "codemirror_mode": {
    "name": "ipython",
    "version": 3
   },
   "file_extension": ".py",
   "mimetype": "text/x-python",
   "name": "python",
   "nbconvert_exporter": "python",
   "pygments_lexer": "ipython3",
   "version": "3.11.5"
  }
 },
 "nbformat": 4,
 "nbformat_minor": 5
}
